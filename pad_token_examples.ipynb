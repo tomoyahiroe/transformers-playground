{
  "nbformat": 4,
  "nbformat_minor": 0,
  "metadata": {
    "colab": {
      "private_outputs": true,
      "provenance": [],
      "machine_shape": "hm",
      "gpuType": "T4",
      "authorship_tag": "ABX9TyP3NPjZwVgEBiSsEwYX1bhV",
      "include_colab_link": true
    },
    "kernelspec": {
      "name": "python3",
      "display_name": "Python 3"
    },
    "language_info": {
      "name": "python"
    }
  },
  "cells": [
    {
      "cell_type": "markdown",
      "metadata": {
        "id": "view-in-github",
        "colab_type": "text"
      },
      "source": [
        "<a href=\"https://colab.research.google.com/github/tomoyahiroe/transformers-playground/blob/main/pad_token_examples.ipynb\" target=\"_parent\"><img src=\"https://colab.research.google.com/assets/colab-badge.svg\" alt=\"Open In Colab\"/></a>"
      ]
    },
    {
      "cell_type": "code",
      "execution_count": null,
      "metadata": {
        "id": "R6KBqzXuXTjq"
      },
      "outputs": [],
      "source": [
        "!pip install transformers[ja,sentencepiece,torch]"
      ]
    },
    {
      "cell_type": "code",
      "source": [
        "import torch\n",
        "from transformers import AutoTokenizer\n",
        "import pprint"
      ],
      "metadata": {
        "id": "nf4LfRvsliEe"
      },
      "execution_count": null,
      "outputs": []
    },
    {
      "cell_type": "code",
      "source": [
        "tokenizer = AutoTokenizer.from_pretrained(\"cl-tohoku/bert-base-japanese-v3\")"
      ],
      "metadata": {
        "id": "nV2N__OFlKw7"
      },
      "execution_count": null,
      "outputs": []
    },
    {
      "cell_type": "code",
      "source": [
        "inputs = [\n",
        "    \"明日は晴れるだろう\",\n",
        "    \"今日も一日良い天気だった\"\n",
        "]"
      ],
      "metadata": {
        "id": "cZugPl0floFv"
      },
      "execution_count": null,
      "outputs": []
    },
    {
      "cell_type": "code",
      "source": [
        "tokenized_inputs = tokenizer(inputs, padding=True, return_tensors=\"pt\")"
      ],
      "metadata": {
        "id": "46oi7sjsl3OH"
      },
      "execution_count": null,
      "outputs": []
    },
    {
      "cell_type": "code",
      "source": [
        "pprint.pp(tokenized_inputs[\"input_ids\"])\n",
        "# tensor([[    2, 18767,   465, 25466,  7056, 15063,     3,     0,     0,     0],\n",
        "#         [    2, 15028,   484,   601,  2698, 14459, 18834, 12563,   449,     3]])"
      ],
      "metadata": {
        "id": "_H1vj6GMmGcu"
      },
      "execution_count": null,
      "outputs": []
    },
    {
      "cell_type": "code",
      "source": [
        "decoded_tokens = [tokenizer.convert_ids_to_tokens(tokenized_inputs[\"input_ids\"][i]) for i in range(len(inputs))]"
      ],
      "metadata": {
        "id": "xJF4br3GmIX7"
      },
      "execution_count": null,
      "outputs": []
    },
    {
      "cell_type": "code",
      "source": [
        "pprint.pp(decoded_tokens)\n",
        "# [['[CLS]', '明日', 'は', '晴れ', '##る', 'だろう', '[SEP]', '[PAD]', '[PAD]', '[PAD]'],\n",
        "#  ['[CLS]', '今日', 'も', '一', '日', '良い', '天気', 'だっ', 'た', '[SEP]']]"
      ],
      "metadata": {
        "id": "BP9Y2h9_mqE_"
      },
      "execution_count": null,
      "outputs": []
    },
    {
      "cell_type": "markdown",
      "source": [
        "## モデルの最大長に合わせてパディングする"
      ],
      "metadata": {
        "id": "omg5ICnb98JN"
      }
    },
    {
      "cell_type": "code",
      "source": [
        "tokenized_inputs = tokenizer(inputs, padding='max_length', return_tensors=\"pt\")\n",
        "decoded_tokens = [tokenizer.convert_ids_to_tokens(tokenized_inputs[\"input_ids\"][i]) for i in range(len(inputs))]\n",
        "print(len(tokenized_inputs['input_ids'][0]))\n",
        "pprint.pp(decoded_tokens[0])\n",
        "\n",
        "# 512\n",
        "# ['[CLS]',\n",
        "#  '明日',\n",
        "#  'は',\n",
        "#  '晴れ',\n",
        "#  '##る',\n",
        "#  'だろう',\n",
        "#  '[SEP]',\n",
        "#  '[PAD]',\n",
        "#  '[PAD]',\n",
        "#   ...\n",
        "#  '[PAD]',\n",
        "#  '[PAD]']"
      ],
      "metadata": {
        "id": "kPfM9aoCmtsv"
      },
      "execution_count": null,
      "outputs": []
    },
    {
      "cell_type": "markdown",
      "source": [
        "## 任意の長さでパディングする"
      ],
      "metadata": {
        "id": "mzPfEfjLm2Me"
      }
    },
    {
      "cell_type": "code",
      "source": [
        "tokenized_inputs = tokenizer(inputs, padding='max_length', max_length=15, return_tensors=\"pt\")\n",
        "decoded_tokens = [tokenizer.convert_ids_to_tokens(tokenized_inputs[\"input_ids\"][i]) for i in range(len(inputs))]\n",
        "print(len(tokenized_inputs['input_ids'][0]))\n",
        "pprint.pp(decoded_tokens[0])\n",
        "\n",
        "# 15\n",
        "# ['[CLS]',\n",
        "#  '明日',\n",
        "#  'は',\n",
        "#  '晴れ',\n",
        "#  '##る',\n",
        "#  'だろう',\n",
        "#  '[SEP]',\n",
        "#  '[PAD]',\n",
        "#  '[PAD]',\n",
        "#  '[PAD]',\n",
        "#  '[PAD]',\n",
        "#  '[PAD]',\n",
        "#  '[PAD]',\n",
        "#  '[PAD]',\n",
        "#  '[PAD]']"
      ],
      "metadata": {
        "id": "YNyem0tQm4Ho"
      },
      "execution_count": null,
      "outputs": []
    }
  ]
}