{
  "nbformat": 4,
  "nbformat_minor": 0,
  "metadata": {
    "colab": {
      "private_outputs": true,
      "provenance": [],
      "authorship_tag": "ABX9TyNsxJ3OJIZgbX++guZo+9zl",
      "include_colab_link": true
    },
    "kernelspec": {
      "name": "python3",
      "display_name": "Python 3"
    },
    "language_info": {
      "name": "python"
    }
  },
  "cells": [
    {
      "cell_type": "markdown",
      "metadata": {
        "id": "view-in-github",
        "colab_type": "text"
      },
      "source": [
        "<a href=\"https://colab.research.google.com/github/tomoyahiroe/transformers-playground/blob/main/special_tokens.ipynb\" target=\"_parent\"><img src=\"https://colab.research.google.com/assets/colab-badge.svg\" alt=\"Open In Colab\"/></a>"
      ]
    },
    {
      "cell_type": "code",
      "source": [
        "!pip install transformers"
      ],
      "metadata": {
        "id": "25rsXrup930A"
      },
      "execution_count": null,
      "outputs": []
    },
    {
      "cell_type": "code",
      "execution_count": null,
      "metadata": {
        "id": "nSydwwzv92dD"
      },
      "outputs": [],
      "source": [
        "from transformers import AutoTokenizer\n",
        "tokenizer = AutoTokenizer.from_pretrained(\"studio-ousia/luke-japanese-base-lite\")\n",
        "print(\"=== LUKE Japanese Base Lite 特別トークン ===\")\n",
        "print(f\"cls_token: {tokenizer.cls_token}\")\n",
        "print(f\"sep_token: {tokenizer.sep_token}\")\n",
        "print(f\"eos_token: {tokenizer.eos_token}\")\n",
        "print(f\"unk_token: {tokenizer.unk_token}\")\n",
        "print(f\"pad_token: {tokenizer.pad_token}\")\n",
        "print(f\"mask_token: {tokenizer.mask_token}\")\n",
        "\n",
        "print(\"\\n=== 対応するToken ID ===\")\n",
        "print(f\"cls_token_id: {tokenizer.cls_token_id}\")\n",
        "print(f\"sep_token_id: {tokenizer.sep_token_id}\")\n",
        "print(f\"eos_token_id: {tokenizer.eos_token_id}\")\n",
        "print(f\"unk_token_id: {tokenizer.unk_token_id}\")\n",
        "print(f\"pad_token_id: {tokenizer.pad_token_id}\")\n",
        "print(f\"mask_token_id: {tokenizer.mask_token_id}\")\n",
        "\n",
        "print(\"\\n=== 全特別トークン一覧 ===\")\n",
        "print(f\"all_special_tokens: {tokenizer.all_special_tokens}\")\n",
        "print(f\"all_special_ids: {tokenizer.all_special_ids}\")"
      ]
    },
    {
      "cell_type": "code",
      "source": [],
      "metadata": {
        "id": "xQEXjeby97aQ"
      },
      "execution_count": null,
      "outputs": []
    }
  ]
}