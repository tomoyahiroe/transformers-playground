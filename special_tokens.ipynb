{
  "nbformat": 4,
  "nbformat_minor": 0,
  "metadata": {
    "colab": {
      "private_outputs": true,
      "provenance": [],
      "authorship_tag": "ABX9TyMrEekfOmOu3nGA/xib+rd3",
      "include_colab_link": true
    },
    "kernelspec": {
      "name": "python3",
      "display_name": "Python 3"
    },
    "language_info": {
      "name": "python"
    }
  },
  "cells": [
    {
      "cell_type": "markdown",
      "metadata": {
        "id": "view-in-github",
        "colab_type": "text"
      },
      "source": [
        "<a href=\"https://colab.research.google.com/github/tomoyahiroe/transformers-playground/blob/main/special_tokens.ipynb\" target=\"_parent\"><img src=\"https://colab.research.google.com/assets/colab-badge.svg\" alt=\"Open In Colab\"/></a>"
      ]
    },
    {
      "cell_type": "code",
      "source": [
        "# transformersのインストール\n",
        "!pip install transformers[ja,sentencepiece,torch]"
      ],
      "metadata": {
        "id": "25rsXrup930A"
      },
      "execution_count": null,
      "outputs": []
    },
    {
      "cell_type": "code",
      "execution_count": null,
      "metadata": {
        "id": "nSydwwzv92dD"
      },
      "outputs": [],
      "source": [
        "from transformers import AutoTokenizer\n",
        "import pprint"
      ]
    },
    {
      "cell_type": "markdown",
      "source": [
        "# types of special tokens by specific models"
      ],
      "metadata": {
        "id": "ZpwS8K-dWIat"
      }
    },
    {
      "cell_type": "code",
      "source": [
        "tokenizer = AutoTokenizer.from_pretrained(\"bert-base-uncased\")\n",
        "pprint.pp(tokenizer.special_tokens_map)\n",
        "\n",
        "# One token per type\n",
        "# {'unk_token': '[UNK]',\n",
        "#  'sep_token': '[SEP]',\n",
        "#  'pad_token': '[PAD]',\n",
        "#  'cls_token': '[CLS]',\n",
        "#  'mask_token': '[MASK]'}"
      ],
      "metadata": {
        "id": "7DgJFy6zFiQP"
      },
      "execution_count": null,
      "outputs": []
    },
    {
      "cell_type": "code",
      "source": [
        "tokenizer = AutoTokenizer.from_pretrained(\"google/t5-v1_1-xl\")\n",
        "pprint.pp(tokenizer.special_tokens_map)"
      ],
      "metadata": {
        "id": "O6Ddw-rvFjug"
      },
      "execution_count": null,
      "outputs": []
    },
    {
      "cell_type": "markdown",
      "source": [
        "# models config"
      ],
      "metadata": {
        "id": "GFtSMB1mWfp4"
      }
    },
    {
      "cell_type": "code",
      "source": [
        "from transformers import AutoTokenizer\n",
        "# AutoTokenizerでトークナイザをロードする\n",
        "tokenizer = AutoTokenizer.from_pretrained(\"abeja/gpt2-large-japanese\")"
      ],
      "metadata": {
        "id": "Kasc7-r1FwMQ"
      },
      "execution_count": null,
      "outputs": []
    },
    {
      "cell_type": "code",
      "source": [
        "# ⼊⼒⽂をトークンに分割する\n",
        "inputs = tokenizer.tokenize(\"今⽇は天気が良いので\", return_tensors=\"pt\")\n",
        "# ['▁', '今日', 'は', '天気', 'が良い', 'の', 'で']"
      ],
      "metadata": {
        "id": "yZUW_4xTWtQS"
      },
      "execution_count": null,
      "outputs": []
    },
    {
      "cell_type": "code",
      "source": [
        "from transformers import AutoModelForCausalLM\n",
        "# ⽣成を⾏うモデルであるAutoModelForCausalLMを使ってモデルをロードする\n",
        "model = AutoModelForCausalLM.from_pretrained(\n",
        "\"abeja/gpt2-large-japanese\"\n",
        ")\n",
        "# トークナイザを使ってモデルへの⼊⼒を作成する\n",
        "inputs = tokenizer(\"今⽇は天気が良いので\", return_tensors=\"pt\")\n",
        "# 後続のテキストを予測\n",
        "outputs = model.generate(\n",
        "**inputs,\n",
        "max_length=15, # ⽣成する最⼤トークン数を15に指定\n",
        "pad_token_id=tokenizer.pad_token_id # パディングのトークンIDを指定\n",
        ")\n",
        "# generate関数の出⼒をテキストに変換する\n",
        "generated_text = tokenizer.decode(\n",
        "outputs[0], skip_special_tokens=True\n",
        ")\n",
        "print(generated_text)"
      ],
      "metadata": {
        "id": "Wfkl_2mBWu96"
      },
      "execution_count": null,
      "outputs": []
    },
    {
      "cell_type": "code",
      "source": [
        "model.config"
      ],
      "metadata": {
        "id": "Ht2ilo5KYLB2"
      },
      "execution_count": null,
      "outputs": []
    },
    {
      "cell_type": "code",
      "source": [],
      "metadata": {
        "id": "Tn9dTokdaFOT"
      },
      "execution_count": null,
      "outputs": []
    }
  ]
}