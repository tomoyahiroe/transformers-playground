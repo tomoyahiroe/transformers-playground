{
  "nbformat": 4,
  "nbformat_minor": 0,
  "metadata": {
    "colab": {
      "private_outputs": true,
      "provenance": [],
      "authorship_tag": "ABX9TyM2SWCKpOZGjmy/Zz29FHhL",
      "include_colab_link": true
    },
    "kernelspec": {
      "name": "python3",
      "display_name": "Python 3"
    },
    "language_info": {
      "name": "python"
    }
  },
  "cells": [
    {
      "cell_type": "markdown",
      "metadata": {
        "id": "view-in-github",
        "colab_type": "text"
      },
      "source": [
        "<a href=\"https://colab.research.google.com/github/tomoyahiroe/transformers-playground/blob/main/special_tokens.ipynb\" target=\"_parent\"><img src=\"https://colab.research.google.com/assets/colab-badge.svg\" alt=\"Open In Colab\"/></a>"
      ]
    },
    {
      "cell_type": "code",
      "source": [
        "!pip install transformers"
      ],
      "metadata": {
        "id": "25rsXrup930A"
      },
      "execution_count": null,
      "outputs": []
    },
    {
      "cell_type": "code",
      "execution_count": null,
      "metadata": {
        "id": "nSydwwzv92dD"
      },
      "outputs": [],
      "source": [
        "from transformers import AutoTokenizer\n",
        "import pprint\n",
        "\n",
        "tokenizer = AutoTokenizer.from_pretrained(\"bert-base-uncased\")\n",
        "pprint.pp(tokenizer.special_tokens_map)\n",
        "\n",
        "# One token per type\n",
        "# {'unk_token': '[UNK]',\n",
        "#  'sep_token': '[SEP]',\n",
        "#  'pad_token': '[PAD]',\n",
        "#  'cls_token': '[CLS]',\n",
        "#  'mask_token': '[MASK]'}"
      ]
    }
  ]
}