{
  "nbformat": 4,
  "nbformat_minor": 0,
  "metadata": {
    "colab": {
      "private_outputs": true,
      "provenance": [],
      "machine_shape": "hm",
      "gpuType": "T4",
      "authorship_tag": "ABX9TyP2zqCXSKxr4fg7ECEMZ6tR",
      "include_colab_link": true
    },
    "kernelspec": {
      "name": "python3",
      "display_name": "Python 3"
    },
    "language_info": {
      "name": "python"
    },
    "accelerator": "GPU"
  },
  "cells": [
    {
      "cell_type": "markdown",
      "metadata": {
        "id": "view-in-github",
        "colab_type": "text"
      },
      "source": [
        "<a href=\"https://colab.research.google.com/github/tomoyahiroe/transformers-playground/blob/main/special_tokens.ipynb\" target=\"_parent\"><img src=\"https://colab.research.google.com/assets/colab-badge.svg\" alt=\"Open In Colab\"/></a>"
      ]
    },
    {
      "cell_type": "code",
      "source": [
        "# transformersのインストール\n",
        "!pip install transformers[ja,sentencepiece,torch]"
      ],
      "metadata": {
        "id": "25rsXrup930A"
      },
      "execution_count": null,
      "outputs": []
    },
    {
      "cell_type": "code",
      "execution_count": null,
      "metadata": {
        "id": "nSydwwzv92dD"
      },
      "outputs": [],
      "source": [
        "from transformers import AutoTokenizer\n",
        "from transformers import AutoModelForCausalLM\n",
        "import pprint"
      ]
    },
    {
      "cell_type": "markdown",
      "source": [
        "# types of special tokens by specific models"
      ],
      "metadata": {
        "id": "ZpwS8K-dWIat"
      }
    },
    {
      "cell_type": "markdown",
      "source": [
        "## BERT"
      ],
      "metadata": {
        "id": "N0o4rdbXnfoN"
      }
    },
    {
      "cell_type": "code",
      "source": [
        "tokenizer = AutoTokenizer.from_pretrained(\"bert-base-uncased\")\n",
        "pprint.pp(tokenizer.special_tokens_map)\n",
        "\n",
        "# {'unk_token': '[UNK]',\n",
        "#  'sep_token': '[SEP]',\n",
        "#  'pad_token': '[PAD]',\n",
        "#  'cls_token': '[CLS]',\n",
        "#  'mask_token': '[MASK]'}"
      ],
      "metadata": {
        "id": "7DgJFy6zFiQP",
        "collapsed": true
      },
      "execution_count": null,
      "outputs": []
    },
    {
      "cell_type": "code",
      "source": [
        "tokenizer = AutoTokenizer.from_pretrained(\"llm-book/bert-base-japanese-v3-marc_ja\")\n",
        "pprint.pp(tokenizer.special_tokens_map)\n",
        "\n",
        "# {'unk_token': '[UNK]',\n",
        "#  'sep_token': '[SEP]',\n",
        "#  'pad_token': '[PAD]',\n",
        "#  'cls_token': '[CLS]',\n",
        "#  'mask_token': '[MASK]'}"
      ],
      "metadata": {
        "id": "4MwfBX-OnBUa"
      },
      "execution_count": null,
      "outputs": []
    },
    {
      "cell_type": "markdown",
      "source": [
        "## GPT"
      ],
      "metadata": {
        "id": "mo8jl_GUphD3"
      }
    },
    {
      "cell_type": "code",
      "source": [
        "tokenizer = AutoTokenizer.from_pretrained(\"openai-community/gpt2\")\n",
        "pprint.pp(tokenizer.special_tokens_map)\n",
        "\n",
        "# {'bos_token': '<|endoftext|>',\n",
        "#  'eos_token': '<|endoftext|>',\n",
        "#  'unk_token': '<|endoftext|>'}"
      ],
      "metadata": {
        "id": "GN0A6zElpi8d"
      },
      "execution_count": null,
      "outputs": []
    },
    {
      "cell_type": "code",
      "source": [
        "tokenizer = AutoTokenizer.from_pretrained(\"abeja/gpt2-large-japanese\")\n",
        "pprint.pp(tokenizer.special_tokens_map)\n",
        "\n",
        "# {'bos_token': '<s>',\n",
        "#  'eos_token': '</s>',\n",
        "#  'unk_token': '<unk>',\n",
        "#  'sep_token': '[SEP]',\n",
        "#  'pad_token': '[PAD]',\n",
        "#  'cls_token': '[CLS]',\n",
        "#  'mask_token': '[MASK]'}"
      ],
      "metadata": {
        "id": "JEMBjEYLrSd9"
      },
      "execution_count": null,
      "outputs": []
    },
    {
      "cell_type": "markdown",
      "source": [
        "## T5"
      ],
      "metadata": {
        "id": "TC110xhVnj6-"
      }
    },
    {
      "cell_type": "code",
      "source": [
        "tokenizer = AutoTokenizer.from_pretrained(\"google/t5-v1_1-xl\")\n",
        "pprint.pp(tokenizer.special_tokens_map)\n",
        "\n",
        "# {'eos_token': '</s>',\n",
        "#  'unk_token': '<unk>',\n",
        "#  'pad_token': '<pad>',\n",
        "#  'additional_special_tokens': ['<extra_id_0>',\n",
        "#                                '<extra_id_1>',\n",
        "#                                '<extra_id_2>',\n",
        "#                                '<extra_id_3>',\n",
        "#                                '<extra_id_4>',\n",
        "#                                '<extra_id_5>',\n",
        "#                                '<extra_id_6>',\n",
        "#                                '<extra_id_7>',\n",
        "#                                ...\n",
        "#                                '<extra_id_99>']}"
      ],
      "metadata": {
        "id": "O6Ddw-rvFjug"
      },
      "execution_count": null,
      "outputs": []
    },
    {
      "cell_type": "code",
      "source": [
        "tokenizer = AutoTokenizer.from_pretrained(\"llm-book/t5-base-long-livedoor-news-corpus\")\n",
        "pprint.pp(tokenizer.special_tokens_map)\n",
        "\n",
        "# {'eos_token': '</s>',\n",
        "#  'unk_token': '<unk>',\n",
        "#  'pad_token': '<pad>',\n",
        "#  'additional_special_tokens': ['<extra_id_0>',\n",
        "#                                '<extra_id_1>',\n",
        "#                                '<extra_id_2>',\n",
        "#                                '<extra_id_3>',\n",
        "#                                '<extra_id_4>',\n",
        "#                                '<extra_id_5>',\n",
        "#                                '<extra_id_6>',\n",
        "#                                '<extra_id_7>',\n",
        "#                                ...\n",
        "#                                '<extra_id_99>']}"
      ],
      "metadata": {
        "id": "pLqizUGGnvjQ"
      },
      "execution_count": null,
      "outputs": []
    },
    {
      "cell_type": "markdown",
      "source": [
        "## その他？"
      ],
      "metadata": {
        "id": "LUeAMPgwpjo5"
      }
    },
    {
      "cell_type": "code",
      "source": [
        "tokenizer = AutoTokenizer.from_pretrained(\"Qwen/Qwen2-7B-Instruct\")\n",
        "pprint.pp(tokenizer.special_tokens_map)\n",
        "\n",
        "# {'eos_token': '<|im_end|>',\n",
        "#  'pad_token': '<|endoftext|>',\n",
        "#  'additional_special_tokens': ['<|im_start|>', '<|im_end|>']}"
      ],
      "metadata": {
        "id": "gSew5JNDr9W_"
      },
      "execution_count": null,
      "outputs": []
    },
    {
      "cell_type": "code",
      "source": [
        "tokenizer = AutoTokenizer.from_pretrained(\"nanonets/Nanonets-OCR-s\") # Image Text to Text\n",
        "pprint.pp(tokenizer.special_tokens_map)\n",
        "\n",
        "# {'eos_token': '<|im_end|>',\n",
        "#  'pad_token': '<|endoftext|>',\n",
        "#  'additional_special_tokens': ['<|im_start|>',\n",
        "#                                '<|im_end|>',\n",
        "#                                '<|object_ref_start|>',\n",
        "#                                '<|object_ref_end|>',\n",
        "#                                '<|box_start|>',\n",
        "#                                '<|box_end|>',\n",
        "#                                '<|quad_start|>',\n",
        "#                                '<|quad_end|>',\n",
        "#                                '<|vision_start|>',\n",
        "#                                '<|vision_end|>',\n",
        "#                                '<|vision_pad|>',\n",
        "#                                '<|image_pad|>',\n",
        "#                                '<|video_pad|>']}"
      ],
      "metadata": {
        "id": "paB6QVYhplMe"
      },
      "execution_count": null,
      "outputs": []
    },
    {
      "cell_type": "code",
      "source": [
        "tokenizer = AutoTokenizer.from_pretrained(\"MiniMaxAI/MiniMax-M1-80k\")\n",
        "pprint.pp(tokenizer.special_tokens_map)\n",
        "\n",
        "# {'bos_token': '<beginning_of_sentence>',\n",
        "#  'eos_token': '<end_of_sentence>',\n",
        "#  'unk_token': '<end_of_document>'}"
      ],
      "metadata": {
        "id": "hu6UQ3BNqQTh"
      },
      "execution_count": null,
      "outputs": []
    },
    {
      "cell_type": "markdown",
      "source": [
        "# models config"
      ],
      "metadata": {
        "id": "GFtSMB1mWfp4"
      }
    },
    {
      "cell_type": "code",
      "source": [
        "model = AutoModelForCausalLM.from_pretrained(\n",
        "\"abeja/gpt2-large-japanese\"\n",
        ")\n",
        "model.config\n",
        "\n",
        "# GPT2Config {\n",
        "#   \"activation_function\": \"gelu_new\",\n",
        "#   \"architectures\": [\n",
        "#     \"GPT2LMHeadModel\"\n",
        "#   ],\n",
        "#   \"attn_pdrop\": 0.1,\n",
        "#   \"bos_token_id\": 1,\n",
        "#   \"embd_pdrop\": 0.1,\n",
        "#   \"eos_token_id\": 2,\n",
        "#   \"initializer_range\": 0.02,\n",
        "#   \"layer_norm_epsilon\": 1e-05,\n",
        "#   \"model_type\": \"gpt2\",\n",
        "#   \"n_ctx\": 1024,\n",
        "#   \"n_embd\": 1280,\n",
        "#   \"n_head\": 20,\n",
        "#   \"n_inner\": null,\n",
        "#   \"n_layer\": 36,\n",
        "#   \"n_positions\": 1024,\n",
        "#   \"reorder_and_upcast_attn\": false,\n",
        "#   \"resid_pdrop\": 0.1,\n",
        "#   \"scale_attn_by_inverse_layer_idx\": false,\n",
        "#   \"scale_attn_weights\": true,\n",
        "#   \"summary_activation\": null,\n",
        "#   \"summary_first_dropout\": 0.1,\n",
        "#   \"summary_proj_to_labels\": true,\n",
        "#   \"summary_type\": \"cls_index\",\n",
        "#   \"summary_use_proj\": true,\n",
        "#   \"task_specific_params\": {\n",
        "#     \"text-generation\": {\n",
        "#       \"do_sample\": true,\n",
        "#       \"max_length\": 50\n",
        "#     }\n",
        "#   },\n",
        "#   \"tokenizer_class\": \"T5Tokenizer\",\n",
        "#   \"torch_dtype\": \"float32\",\n",
        "#   \"transformers_version\": \"4.52.4\",\n",
        "#   \"use_cache\": true,\n",
        "#   \"vocab_size\": 32000\n",
        "# }"
      ],
      "metadata": {
        "id": "Wfkl_2mBWu96"
      },
      "execution_count": null,
      "outputs": []
    }
  ]
}