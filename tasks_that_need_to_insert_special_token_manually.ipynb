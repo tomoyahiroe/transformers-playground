{
  "nbformat": 4,
  "nbformat_minor": 0,
  "metadata": {
    "colab": {
      "provenance": [],
      "machine_shape": "hm",
      "gpuType": "T4",
      "authorship_tag": "ABX9TyO/7jAAB+UpsZVvsqS1btMY",
      "include_colab_link": true
    },
    "kernelspec": {
      "name": "python3",
      "display_name": "Python 3"
    },
    "language_info": {
      "name": "python"
    },
    "accelerator": "GPU"
  },
  "cells": [
    {
      "cell_type": "markdown",
      "metadata": {
        "id": "view-in-github",
        "colab_type": "text"
      },
      "source": [
        "<a href=\"https://colab.research.google.com/github/tomoyahiroe/transformers-playground/blob/main/tasks_that_need_to_insert_special_token_manually.ipynb\" target=\"_parent\"><img src=\"https://colab.research.google.com/assets/colab-badge.svg\" alt=\"Open In Colab\"/></a>"
      ]
    },
    {
      "cell_type": "markdown",
      "source": [
        "# 手動で特殊トークンを挿入しないといけないタスクの例"
      ],
      "metadata": {
        "id": "IrizflbMrEpv"
      }
    },
    {
      "cell_type": "code",
      "execution_count": null,
      "metadata": {
        "id": "zCW5bNTQxLcz"
      },
      "outputs": [],
      "source": [
        "# transformersのインストール\n",
        "!pip install transformers[ja,sentencepiece,torch]"
      ]
    },
    {
      "cell_type": "code",
      "source": [
        "from transformers import AutoTokenizer, AutoModelForSeq2SeqLM, AutoModelForMaskedLM\n",
        "import pprint\n",
        "import torch"
      ],
      "metadata": {
        "id": "ZoKbS8_Hx9dy"
      },
      "execution_count": null,
      "outputs": []
    },
    {
      "cell_type": "markdown",
      "source": [
        "## 穴埋めタスク"
      ],
      "metadata": {
        "id": "lLYoGvljrJ7H"
      }
    },
    {
      "cell_type": "markdown",
      "source": [
        "### T5(教科書3.4.4)"
      ],
      "metadata": {
        "id": "lvkBqrd_rR7Q"
      }
    },
    {
      "cell_type": "code",
      "source": [
        "tokenizer = AutoTokenizer.from_pretrained(\"retrieva-jp/t5-base-long\")\n",
        "model = AutoModelForSeq2SeqLM.from_pretrained(\"retrieva-jp/t5-base-long\")"
      ],
      "metadata": {
        "id": "z0XqjWuVaOGr"
      },
      "execution_count": null,
      "outputs": []
    },
    {
      "cell_type": "code",
      "source": [
        "input_text = \"江戸幕府を開いたのは、<extra_id_0>である。\"\n",
        "inputs = tokenizer(input_text, return_tensors=\"pt\")\n",
        "\n",
        "# 生成\n",
        "outputs = model.generate(**inputs, max_length=3)\n",
        "print(tokenizer.decode(outputs[0], skip_special_tokens=True))"
      ],
      "metadata": {
        "colab": {
          "base_uri": "https://localhost:8080/"
        },
        "id": "d1QBjBRwaObi",
        "outputId": "5caa839f-d9cf-4297-82bf-b26ea560791f"
      },
      "execution_count": null,
      "outputs": [
        {
          "output_type": "stream",
          "name": "stdout",
          "text": [
            "徳川家康\n"
          ]
        }
      ]
    },
    {
      "cell_type": "markdown",
      "source": [
        "### BERT(3.3.4)"
      ],
      "metadata": {
        "id": "V22SkvAtrTgR"
      }
    },
    {
      "cell_type": "code",
      "source": [
        "tokenizer = AutoTokenizer.from_pretrained(\"cl-tohoku/bert-base-japanese-v3\")\n",
        "model = AutoModelForMaskedLM.from_pretrained(\"cl-tohoku/bert-base-japanese-v3\")"
      ],
      "metadata": {
        "id": "lwt_OFqkrURp"
      },
      "execution_count": null,
      "outputs": []
    },
    {
      "cell_type": "code",
      "source": [
        "input_text = \"江戸幕府を開いたのは、[MASK][MASK]である。\"\n",
        "inputs = tokenizer(input_text, return_tensors=\"pt\")\n",
        "\n",
        "# 生成\n",
        "with torch.no_grad():\n",
        "  outputs = model(**inputs)\n",
        "\n",
        "# マスクされたトークンの予測を取得\n",
        "masked_token_index = torch.where(inputs[\"input_ids\"] == tokenizer.mask_token_id)[1]\n",
        "predicted_token_id = outputs.logits[0, masked_token_index].argmax(axis=-1)\n",
        "\n",
        "# 予測されたトークンをデコードして表示\n",
        "print(tokenizer.decode(predicted_token_id))"
      ],
      "metadata": {
        "colab": {
          "base_uri": "https://localhost:8080/"
        },
        "id": "4i2r5NEHr8bx",
        "outputId": "7978f0bf-8d6e-4271-c40b-7383049ea040"
      },
      "execution_count": null,
      "outputs": [
        {
          "output_type": "stream",
          "name": "stdout",
          "text": [
            "徳川 家康\n"
          ]
        }
      ]
    },
    {
      "cell_type": "markdown",
      "source": [
        "#### 文法解説"
      ],
      "metadata": {
        "id": "vyCuHKsTy5Bh"
      }
    },
    {
      "cell_type": "code",
      "source": [
        "inputs[\"input_ids\"]"
      ],
      "metadata": {
        "colab": {
          "base_uri": "https://localhost:8080/"
        },
        "id": "BFTw-5OovlyR",
        "outputId": "75c8ae92-ba22-4a6c-d117-626c3d538a11"
      },
      "execution_count": null,
      "outputs": [
        {
          "output_type": "execute_result",
          "data": {
            "text/plain": [
              "tensor([[    2, 13200, 14738,   500, 16371,   449,   464,   465,   384,     4,\n",
              "             4,   457, 12485,   385,     3]])"
            ]
          },
          "metadata": {},
          "execution_count": 33
        }
      ]
    },
    {
      "cell_type": "code",
      "source": [
        "inputs[\"input_ids\"] == tokenizer.mask_token_id"
      ],
      "metadata": {
        "colab": {
          "base_uri": "https://localhost:8080/"
        },
        "id": "qI0tXUKQw24u",
        "outputId": "5606a001-c6be-4415-f176-99ad64d17b1e"
      },
      "execution_count": null,
      "outputs": [
        {
          "output_type": "execute_result",
          "data": {
            "text/plain": [
              "tensor([[False, False, False, False, False, False, False, False, False,  True,\n",
              "          True, False, False, False, False]])"
            ]
          },
          "metadata": {},
          "execution_count": 34
        }
      ]
    },
    {
      "cell_type": "code",
      "source": [
        "# 出力 (tensor([0, 0]), tensor([ 9, 10])) は、バッチの 0 番目の要素の 9 番目と 10 番目の位置にマスクがあることを示しています。\n",
        "torch.where(inputs[\"input_ids\"] == tokenizer.mask_token_id)"
      ],
      "metadata": {
        "colab": {
          "base_uri": "https://localhost:8080/"
        },
        "id": "tgctYBGtxUhB",
        "outputId": "8c0f10a8-ef34-4642-9eec-e7915a224af3"
      },
      "execution_count": null,
      "outputs": [
        {
          "output_type": "execute_result",
          "data": {
            "text/plain": [
              "(tensor([0, 0]), tensor([ 9, 10]))"
            ]
          },
          "metadata": {},
          "execution_count": 36
        }
      ]
    },
    {
      "cell_type": "code",
      "source": [
        "torch.where(inputs[\"input_ids\"] == tokenizer.mask_token_id)[1]"
      ],
      "metadata": {
        "colab": {
          "base_uri": "https://localhost:8080/"
        },
        "id": "p88wA2RwxY8X",
        "outputId": "66d09493-88bb-4760-9ab1-37d76b2e2d83"
      },
      "execution_count": null,
      "outputs": [
        {
          "output_type": "execute_result",
          "data": {
            "text/plain": [
              "tensor([ 9, 10])"
            ]
          },
          "metadata": {},
          "execution_count": 37
        }
      ]
    },
    {
      "cell_type": "markdown",
      "source": [
        "選択された outputs.logits[0, masked_token_index].argmax(axis=-1) は、モデルの予測結果から最も可能性の高い単語を特定する部分です。\n",
        "\n",
        "outputs.logits は、モデルが各入力トークン位置に対して、語彙中の全単語がどれくらい適切であるかを示したスコア（ロジット）の集まりです。\n",
        "[0, masked_token_index] は、このスコアの中から、最初の入力例（バッチサイズが 1 なので 0 番目）の、[MASK] トークンが見つかった位置（masked_token_index）に対応する部分を選び出しています。これにより、[MASK] の位置における、すべての単語に対するスコアのリストが得られます。\n",
        ".argmax(axis=-1) は、そのスコアのリストの中で、最もスコアが高い（つまりモデルが一番予測している）単語の「インデックス」を見つけます。このインデックスは、語彙リストの中でのその単語の位置、つまり単語 ID になります。\n",
        "したがって、このコードは「マスクされた位置について、モデルが予測した最も可能性の高い単語の ID を取得する」という処理を行っています。"
      ],
      "metadata": {
        "id": "uBMQUDpyyL5Q"
      }
    },
    {
      "cell_type": "code",
      "source": [
        "outputs.logits[0, masked_token_index]"
      ],
      "metadata": {
        "colab": {
          "base_uri": "https://localhost:8080/"
        },
        "id": "YKHUbAdTxyK4",
        "outputId": "00aa9e3e-d270-4311-a300-746a7f448d70"
      },
      "execution_count": null,
      "outputs": [
        {
          "output_type": "execute_result",
          "data": {
            "text/plain": [
              "tensor([[-8.3264,  1.4076, -6.8395,  ..., -8.8488, -8.2784, -9.5503],\n",
              "        [-8.4666,  2.9211, -5.8371,  ..., -9.0203, -8.2328, -9.6989]])"
            ]
          },
          "metadata": {},
          "execution_count": 40
        }
      ]
    },
    {
      "cell_type": "code",
      "source": [
        "outputs.logits[0, masked_token_index].shape"
      ],
      "metadata": {
        "id": "7qwA2ZbnynhL",
        "outputId": "4fdf8067-b8b9-4d4a-9f27-c48b4d9ec631",
        "colab": {
          "base_uri": "https://localhost:8080/"
        }
      },
      "execution_count": null,
      "outputs": [
        {
          "output_type": "execute_result",
          "data": {
            "text/plain": [
              "torch.Size([2, 32768])"
            ]
          },
          "metadata": {},
          "execution_count": 42
        }
      ]
    },
    {
      "cell_type": "code",
      "source": [
        "# 最も予測スコアの高い単語のインデックス\n",
        "outputs.logits[0, masked_token_index].argmax(axis=-1)"
      ],
      "metadata": {
        "colab": {
          "base_uri": "https://localhost:8080/"
        },
        "id": "ujtkp9IHx6Yw",
        "outputId": "8691dc2e-88d0-4941-a314-39c56e4bcdaf"
      },
      "execution_count": null,
      "outputs": [
        {
          "output_type": "execute_result",
          "data": {
            "text/plain": [
              "tensor([15091, 17772])"
            ]
          },
          "metadata": {},
          "execution_count": 43
        }
      ]
    },
    {
      "cell_type": "code",
      "source": [
        "tokenizer.decode(predicted_token_id)"
      ],
      "metadata": {
        "colab": {
          "base_uri": "https://localhost:8080/",
          "height": 35
        },
        "id": "6MmWDn7cyf0s",
        "outputId": "af8638eb-ecdc-41a9-f612-5dbd16208fe1"
      },
      "execution_count": null,
      "outputs": [
        {
          "output_type": "execute_result",
          "data": {
            "text/plain": [
              "'徳川 家康'"
            ],
            "application/vnd.google.colaboratory.intrinsic+json": {
              "type": "string"
            }
          },
          "metadata": {},
          "execution_count": 44
        }
      ]
    }
  ]
}