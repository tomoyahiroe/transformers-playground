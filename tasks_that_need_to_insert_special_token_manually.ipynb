{
  "nbformat": 4,
  "nbformat_minor": 0,
  "metadata": {
    "colab": {
      "provenance": [],
      "machine_shape": "hm",
      "gpuType": "T4",
      "authorship_tag": "ABX9TyNyPAGcyRDxaqB8fLqWJJEv",
      "include_colab_link": true
    },
    "kernelspec": {
      "name": "python3",
      "display_name": "Python 3"
    },
    "language_info": {
      "name": "python"
    },
    "accelerator": "GPU"
  },
  "cells": [
    {
      "cell_type": "markdown",
      "metadata": {
        "id": "view-in-github",
        "colab_type": "text"
      },
      "source": [
        "<a href=\"https://colab.research.google.com/github/tomoyahiroe/transformers-playground/blob/main/tasks_that_need_to_insert_special_token_manually.ipynb\" target=\"_parent\"><img src=\"https://colab.research.google.com/assets/colab-badge.svg\" alt=\"Open In Colab\"/></a>"
      ]
    },
    {
      "cell_type": "markdown",
      "source": [
        "# 手動で特殊トークンを挿入しないといけないタスクの例"
      ],
      "metadata": {
        "id": "IrizflbMrEpv"
      }
    },
    {
      "cell_type": "code",
      "execution_count": 15,
      "metadata": {
        "id": "zCW5bNTQxLcz",
        "colab": {
          "base_uri": "https://localhost:8080/"
        },
        "outputId": "92793c2a-8bf9-4af2-dfc1-3c2c41909690"
      },
      "outputs": [
        {
          "output_type": "stream",
          "name": "stdout",
          "text": [
            "Requirement already satisfied: transformers[ja,sentencepiece,torch] in /usr/local/lib/python3.11/dist-packages (4.52.4)\n",
            "Requirement already satisfied: filelock in /usr/local/lib/python3.11/dist-packages (from transformers[ja,sentencepiece,torch]) (3.18.0)\n",
            "Requirement already satisfied: huggingface-hub<1.0,>=0.30.0 in /usr/local/lib/python3.11/dist-packages (from transformers[ja,sentencepiece,torch]) (0.33.0)\n",
            "Requirement already satisfied: numpy>=1.17 in /usr/local/lib/python3.11/dist-packages (from transformers[ja,sentencepiece,torch]) (2.0.2)\n",
            "Requirement already satisfied: packaging>=20.0 in /usr/local/lib/python3.11/dist-packages (from transformers[ja,sentencepiece,torch]) (24.2)\n",
            "Requirement already satisfied: pyyaml>=5.1 in /usr/local/lib/python3.11/dist-packages (from transformers[ja,sentencepiece,torch]) (6.0.2)\n",
            "Requirement already satisfied: regex!=2019.12.17 in /usr/local/lib/python3.11/dist-packages (from transformers[ja,sentencepiece,torch]) (2024.11.6)\n",
            "Requirement already satisfied: requests in /usr/local/lib/python3.11/dist-packages (from transformers[ja,sentencepiece,torch]) (2.32.3)\n",
            "Requirement already satisfied: tokenizers<0.22,>=0.21 in /usr/local/lib/python3.11/dist-packages (from transformers[ja,sentencepiece,torch]) (0.21.1)\n",
            "Requirement already satisfied: safetensors>=0.4.3 in /usr/local/lib/python3.11/dist-packages (from transformers[ja,sentencepiece,torch]) (0.5.3)\n",
            "Requirement already satisfied: tqdm>=4.27 in /usr/local/lib/python3.11/dist-packages (from transformers[ja,sentencepiece,torch]) (4.67.1)\n",
            "Requirement already satisfied: fugashi>=1.0 in /usr/local/lib/python3.11/dist-packages (from transformers[ja,sentencepiece,torch]) (1.5.1)\n",
            "Requirement already satisfied: ipadic<2.0,>=1.0.0 in /usr/local/lib/python3.11/dist-packages (from transformers[ja,sentencepiece,torch]) (1.0.0)\n",
            "Requirement already satisfied: unidic-lite>=1.0.7 in /usr/local/lib/python3.11/dist-packages (from transformers[ja,sentencepiece,torch]) (1.0.8)\n",
            "Requirement already satisfied: unidic>=1.0.2 in /usr/local/lib/python3.11/dist-packages (from transformers[ja,sentencepiece,torch]) (1.1.0)\n",
            "Requirement already satisfied: sudachipy>=0.6.6 in /usr/local/lib/python3.11/dist-packages (from transformers[ja,sentencepiece,torch]) (0.6.10)\n",
            "Requirement already satisfied: sudachidict-core>=20220729 in /usr/local/lib/python3.11/dist-packages (from transformers[ja,sentencepiece,torch]) (20250515)\n",
            "Requirement already satisfied: rhoknp<1.3.1,>=1.1.0 in /usr/local/lib/python3.11/dist-packages (from transformers[ja,sentencepiece,torch]) (1.3.0)\n",
            "Requirement already satisfied: sentencepiece!=0.1.92,>=0.1.91 in /usr/local/lib/python3.11/dist-packages (from transformers[ja,sentencepiece,torch]) (0.2.0)\n",
            "Requirement already satisfied: protobuf in /usr/local/lib/python3.11/dist-packages (from transformers[ja,sentencepiece,torch]) (5.29.5)\n",
            "Requirement already satisfied: torch<2.7,>=2.1 in /usr/local/lib/python3.11/dist-packages (from transformers[ja,sentencepiece,torch]) (2.6.0+cu124)\n",
            "Requirement already satisfied: accelerate>=0.26.0 in /usr/local/lib/python3.11/dist-packages (from transformers[ja,sentencepiece,torch]) (1.8.1)\n",
            "Requirement already satisfied: psutil in /usr/local/lib/python3.11/dist-packages (from accelerate>=0.26.0->transformers[ja,sentencepiece,torch]) (5.9.5)\n",
            "Requirement already satisfied: fsspec>=2023.5.0 in /usr/local/lib/python3.11/dist-packages (from huggingface-hub<1.0,>=0.30.0->transformers[ja,sentencepiece,torch]) (2025.3.2)\n",
            "Requirement already satisfied: typing-extensions>=3.7.4.3 in /usr/local/lib/python3.11/dist-packages (from huggingface-hub<1.0,>=0.30.0->transformers[ja,sentencepiece,torch]) (4.14.0)\n",
            "Requirement already satisfied: hf-xet<2.0.0,>=1.1.2 in /usr/local/lib/python3.11/dist-packages (from huggingface-hub<1.0,>=0.30.0->transformers[ja,sentencepiece,torch]) (1.1.5)\n",
            "Requirement already satisfied: networkx in /usr/local/lib/python3.11/dist-packages (from torch<2.7,>=2.1->transformers[ja,sentencepiece,torch]) (3.5)\n",
            "Requirement already satisfied: jinja2 in /usr/local/lib/python3.11/dist-packages (from torch<2.7,>=2.1->transformers[ja,sentencepiece,torch]) (3.1.6)\n",
            "Requirement already satisfied: nvidia-cuda-nvrtc-cu12==12.4.127 in /usr/local/lib/python3.11/dist-packages (from torch<2.7,>=2.1->transformers[ja,sentencepiece,torch]) (12.4.127)\n",
            "Requirement already satisfied: nvidia-cuda-runtime-cu12==12.4.127 in /usr/local/lib/python3.11/dist-packages (from torch<2.7,>=2.1->transformers[ja,sentencepiece,torch]) (12.4.127)\n",
            "Requirement already satisfied: nvidia-cuda-cupti-cu12==12.4.127 in /usr/local/lib/python3.11/dist-packages (from torch<2.7,>=2.1->transformers[ja,sentencepiece,torch]) (12.4.127)\n",
            "Requirement already satisfied: nvidia-cudnn-cu12==9.1.0.70 in /usr/local/lib/python3.11/dist-packages (from torch<2.7,>=2.1->transformers[ja,sentencepiece,torch]) (9.1.0.70)\n",
            "Requirement already satisfied: nvidia-cublas-cu12==12.4.5.8 in /usr/local/lib/python3.11/dist-packages (from torch<2.7,>=2.1->transformers[ja,sentencepiece,torch]) (12.4.5.8)\n",
            "Requirement already satisfied: nvidia-cufft-cu12==11.2.1.3 in /usr/local/lib/python3.11/dist-packages (from torch<2.7,>=2.1->transformers[ja,sentencepiece,torch]) (11.2.1.3)\n",
            "Requirement already satisfied: nvidia-curand-cu12==10.3.5.147 in /usr/local/lib/python3.11/dist-packages (from torch<2.7,>=2.1->transformers[ja,sentencepiece,torch]) (10.3.5.147)\n",
            "Requirement already satisfied: nvidia-cusolver-cu12==11.6.1.9 in /usr/local/lib/python3.11/dist-packages (from torch<2.7,>=2.1->transformers[ja,sentencepiece,torch]) (11.6.1.9)\n",
            "Requirement already satisfied: nvidia-cusparse-cu12==12.3.1.170 in /usr/local/lib/python3.11/dist-packages (from torch<2.7,>=2.1->transformers[ja,sentencepiece,torch]) (12.3.1.170)\n",
            "Requirement already satisfied: nvidia-cusparselt-cu12==0.6.2 in /usr/local/lib/python3.11/dist-packages (from torch<2.7,>=2.1->transformers[ja,sentencepiece,torch]) (0.6.2)\n",
            "Requirement already satisfied: nvidia-nccl-cu12==2.21.5 in /usr/local/lib/python3.11/dist-packages (from torch<2.7,>=2.1->transformers[ja,sentencepiece,torch]) (2.21.5)\n",
            "Requirement already satisfied: nvidia-nvtx-cu12==12.4.127 in /usr/local/lib/python3.11/dist-packages (from torch<2.7,>=2.1->transformers[ja,sentencepiece,torch]) (12.4.127)\n",
            "Requirement already satisfied: nvidia-nvjitlink-cu12==12.4.127 in /usr/local/lib/python3.11/dist-packages (from torch<2.7,>=2.1->transformers[ja,sentencepiece,torch]) (12.4.127)\n",
            "Requirement already satisfied: triton==3.2.0 in /usr/local/lib/python3.11/dist-packages (from torch<2.7,>=2.1->transformers[ja,sentencepiece,torch]) (3.2.0)\n",
            "Requirement already satisfied: sympy==1.13.1 in /usr/local/lib/python3.11/dist-packages (from torch<2.7,>=2.1->transformers[ja,sentencepiece,torch]) (1.13.1)\n",
            "Requirement already satisfied: mpmath<1.4,>=1.1.0 in /usr/local/lib/python3.11/dist-packages (from sympy==1.13.1->torch<2.7,>=2.1->transformers[ja,sentencepiece,torch]) (1.3.0)\n",
            "Requirement already satisfied: wasabi<1.0.0,>=0.6.0 in /usr/local/lib/python3.11/dist-packages (from unidic>=1.0.2->transformers[ja,sentencepiece,torch]) (0.10.1)\n",
            "Requirement already satisfied: plac<2.0.0,>=1.1.3 in /usr/local/lib/python3.11/dist-packages (from unidic>=1.0.2->transformers[ja,sentencepiece,torch]) (1.4.5)\n",
            "Requirement already satisfied: charset-normalizer<4,>=2 in /usr/local/lib/python3.11/dist-packages (from requests->transformers[ja,sentencepiece,torch]) (3.4.2)\n",
            "Requirement already satisfied: idna<4,>=2.5 in /usr/local/lib/python3.11/dist-packages (from requests->transformers[ja,sentencepiece,torch]) (3.10)\n",
            "Requirement already satisfied: urllib3<3,>=1.21.1 in /usr/local/lib/python3.11/dist-packages (from requests->transformers[ja,sentencepiece,torch]) (2.4.0)\n",
            "Requirement already satisfied: certifi>=2017.4.17 in /usr/local/lib/python3.11/dist-packages (from requests->transformers[ja,sentencepiece,torch]) (2025.6.15)\n",
            "Requirement already satisfied: MarkupSafe>=2.0 in /usr/local/lib/python3.11/dist-packages (from jinja2->torch<2.7,>=2.1->transformers[ja,sentencepiece,torch]) (3.0.2)\n"
          ]
        }
      ],
      "source": [
        "# transformersのインストール\n",
        "!pip install transformers[ja,sentencepiece,torch]"
      ]
    },
    {
      "cell_type": "code",
      "source": [
        "from transformers import AutoTokenizer, AutoModelForSeq2SeqLM, AutoModelForMaskedLM\n",
        "import pprint\n",
        "import torch"
      ],
      "metadata": {
        "id": "ZoKbS8_Hx9dy"
      },
      "execution_count": 21,
      "outputs": []
    },
    {
      "cell_type": "markdown",
      "source": [
        "## 穴埋めタスク"
      ],
      "metadata": {
        "id": "lLYoGvljrJ7H"
      }
    },
    {
      "cell_type": "markdown",
      "source": [
        "### T5(教科書3.4.4)"
      ],
      "metadata": {
        "id": "lvkBqrd_rR7Q"
      }
    },
    {
      "cell_type": "code",
      "source": [
        "tokenizer = AutoTokenizer.from_pretrained(\"retrieva-jp/t5-base-long\")\n",
        "model = AutoModelForSeq2SeqLM.from_pretrained(\"retrieva-jp/t5-base-long\")"
      ],
      "metadata": {
        "id": "z0XqjWuVaOGr"
      },
      "execution_count": 17,
      "outputs": []
    },
    {
      "cell_type": "code",
      "source": [
        "input_text = \"江戸幕府を開いたのは、<extra_id_0>である。\"\n",
        "inputs = tokenizer(input_text, return_tensors=\"pt\")\n",
        "\n",
        "# 生成\n",
        "outputs = model.generate(**inputs, max_length=3)\n",
        "print(tokenizer.decode(outputs[0], skip_special_tokens=True))"
      ],
      "metadata": {
        "colab": {
          "base_uri": "https://localhost:8080/"
        },
        "id": "d1QBjBRwaObi",
        "outputId": "5caa839f-d9cf-4297-82bf-b26ea560791f"
      },
      "execution_count": 18,
      "outputs": [
        {
          "output_type": "stream",
          "name": "stdout",
          "text": [
            "徳川家康\n"
          ]
        }
      ]
    },
    {
      "cell_type": "markdown",
      "source": [
        "### BERT(3.3.4)"
      ],
      "metadata": {
        "id": "V22SkvAtrTgR"
      }
    },
    {
      "cell_type": "code",
      "source": [
        "tokenizer = AutoTokenizer.from_pretrained(\"cl-tohoku/bert-base-japanese-v3\")\n",
        "model = AutoModelForMaskedLM.from_pretrained(\"cl-tohoku/bert-base-japanese-v3\")"
      ],
      "metadata": {
        "colab": {
          "base_uri": "https://localhost:8080/",
          "height": 49,
          "referenced_widgets": [
            "c650b8f4871a4026bdbaefa694fd169c",
            "85cd9f705d6d4a5f88801b4d04b83b70",
            "69a7d0aff9854a27897dd7c0cbb63f01",
            "066bf0b18a9a4bfcae60851d970dd88d",
            "3c02aca418a54ea2b4c3a7160dd2933a",
            "4ecfc6192d47469d8c373536aa131bfc",
            "b74c63578bcd4f5aa79e1edc97ff0878",
            "7de3baaf521a4dbfb820c41542f7b8b1",
            "19573244eb7f4d81971b623937085ba6",
            "d3e1c9bcc98743a79df89734eb630d9c",
            "afecdd4f275d46dfae488917aba6d085"
          ]
        },
        "id": "lwt_OFqkrURp",
        "outputId": "6078ba87-503b-4f57-ba2a-c121908acfbd"
      },
      "execution_count": 22,
      "outputs": [
        {
          "output_type": "display_data",
          "data": {
            "text/plain": [
              "pytorch_model.bin:   0%|          | 0.00/447M [00:00<?, ?B/s]"
            ],
            "application/vnd.jupyter.widget-view+json": {
              "version_major": 2,
              "version_minor": 0,
              "model_id": "c650b8f4871a4026bdbaefa694fd169c"
            }
          },
          "metadata": {}
        }
      ]
    },
    {
      "cell_type": "code",
      "source": [
        "input_text = \"江戸幕府を開いたのは、[MASK][MASK]である。\"\n",
        "inputs = tokenizer(input_text, return_tensors=\"pt\")\n",
        "\n",
        "# 生成\n",
        "with torch.no_grad():\n",
        "  outputs = model(**inputs)\n",
        "\n",
        "# マスクされたトークンの予測を取得\n",
        "masked_token_index = torch.where(inputs[\"input_ids\"] == tokenizer.mask_token_id)[1]\n",
        "predicted_token_id = outputs.logits[0, masked_token_index].argmax(axis=-1)\n",
        "\n",
        "# 予測されたトークンをデコードして表示\n",
        "print(tokenizer.decode(predicted_token_id))"
      ],
      "metadata": {
        "colab": {
          "base_uri": "https://localhost:8080/"
        },
        "id": "4i2r5NEHr8bx",
        "outputId": "7978f0bf-8d6e-4271-c40b-7383049ea040"
      },
      "execution_count": 30,
      "outputs": [
        {
          "output_type": "stream",
          "name": "stdout",
          "text": [
            "徳川 家康\n"
          ]
        }
      ]
    },
    {
      "cell_type": "markdown",
      "source": [
        "#### 文法解説"
      ],
      "metadata": {
        "id": "vyCuHKsTy5Bh"
      }
    },
    {
      "cell_type": "code",
      "source": [
        "inputs[\"input_ids\"]"
      ],
      "metadata": {
        "colab": {
          "base_uri": "https://localhost:8080/"
        },
        "id": "BFTw-5OovlyR",
        "outputId": "75c8ae92-ba22-4a6c-d117-626c3d538a11"
      },
      "execution_count": 33,
      "outputs": [
        {
          "output_type": "execute_result",
          "data": {
            "text/plain": [
              "tensor([[    2, 13200, 14738,   500, 16371,   449,   464,   465,   384,     4,\n",
              "             4,   457, 12485,   385,     3]])"
            ]
          },
          "metadata": {},
          "execution_count": 33
        }
      ]
    },
    {
      "cell_type": "code",
      "source": [
        "inputs[\"input_ids\"] == tokenizer.mask_token_id"
      ],
      "metadata": {
        "colab": {
          "base_uri": "https://localhost:8080/"
        },
        "id": "qI0tXUKQw24u",
        "outputId": "5606a001-c6be-4415-f176-99ad64d17b1e"
      },
      "execution_count": 34,
      "outputs": [
        {
          "output_type": "execute_result",
          "data": {
            "text/plain": [
              "tensor([[False, False, False, False, False, False, False, False, False,  True,\n",
              "          True, False, False, False, False]])"
            ]
          },
          "metadata": {},
          "execution_count": 34
        }
      ]
    },
    {
      "cell_type": "code",
      "source": [
        "# 出力 (tensor([0, 0]), tensor([ 9, 10])) は、バッチの 0 番目の要素の 9 番目と 10 番目の位置にマスクがあることを示しています。\n",
        "torch.where(inputs[\"input_ids\"] == tokenizer.mask_token_id)"
      ],
      "metadata": {
        "colab": {
          "base_uri": "https://localhost:8080/"
        },
        "id": "tgctYBGtxUhB",
        "outputId": "8c0f10a8-ef34-4642-9eec-e7915a224af3"
      },
      "execution_count": 36,
      "outputs": [
        {
          "output_type": "execute_result",
          "data": {
            "text/plain": [
              "(tensor([0, 0]), tensor([ 9, 10]))"
            ]
          },
          "metadata": {},
          "execution_count": 36
        }
      ]
    },
    {
      "cell_type": "code",
      "source": [
        "torch.where(inputs[\"input_ids\"] == tokenizer.mask_token_id)[1]"
      ],
      "metadata": {
        "colab": {
          "base_uri": "https://localhost:8080/"
        },
        "id": "p88wA2RwxY8X",
        "outputId": "66d09493-88bb-4760-9ab1-37d76b2e2d83"
      },
      "execution_count": 37,
      "outputs": [
        {
          "output_type": "execute_result",
          "data": {
            "text/plain": [
              "tensor([ 9, 10])"
            ]
          },
          "metadata": {},
          "execution_count": 37
        }
      ]
    },
    {
      "cell_type": "markdown",
      "source": [
        "選択された outputs.logits[0, masked_token_index].argmax(axis=-1) は、モデルの予測結果から最も可能性の高い単語を特定する部分です。\n",
        "\n",
        "outputs.logits は、モデルが各入力トークン位置に対して、語彙中の全単語がどれくらい適切であるかを示したスコア（ロジット）の集まりです。\n",
        "[0, masked_token_index] は、このスコアの中から、最初の入力例（バッチサイズが 1 なので 0 番目）の、[MASK] トークンが見つかった位置（masked_token_index）に対応する部分を選び出しています。これにより、[MASK] の位置における、すべての単語に対するスコアのリストが得られます。\n",
        ".argmax(axis=-1) は、そのスコアのリストの中で、最もスコアが高い（つまりモデルが一番予測している）単語の「インデックス」を見つけます。このインデックスは、語彙リストの中でのその単語の位置、つまり単語 ID になります。\n",
        "したがって、このコードは「マスクされた位置について、モデルが予測した最も可能性の高い単語の ID を取得する」という処理を行っています。"
      ],
      "metadata": {
        "id": "uBMQUDpyyL5Q"
      }
    },
    {
      "cell_type": "code",
      "source": [
        "outputs.logits[0, masked_token_index]"
      ],
      "metadata": {
        "colab": {
          "base_uri": "https://localhost:8080/"
        },
        "id": "YKHUbAdTxyK4",
        "outputId": "00aa9e3e-d270-4311-a300-746a7f448d70"
      },
      "execution_count": 40,
      "outputs": [
        {
          "output_type": "execute_result",
          "data": {
            "text/plain": [
              "tensor([[-8.3264,  1.4076, -6.8395,  ..., -8.8488, -8.2784, -9.5503],\n",
              "        [-8.4666,  2.9211, -5.8371,  ..., -9.0203, -8.2328, -9.6989]])"
            ]
          },
          "metadata": {},
          "execution_count": 40
        }
      ]
    },
    {
      "cell_type": "code",
      "source": [
        "outputs.logits[0, masked_token_index].shape"
      ],
      "metadata": {
        "id": "7qwA2ZbnynhL",
        "outputId": "4fdf8067-b8b9-4d4a-9f27-c48b4d9ec631",
        "colab": {
          "base_uri": "https://localhost:8080/"
        }
      },
      "execution_count": 42,
      "outputs": [
        {
          "output_type": "execute_result",
          "data": {
            "text/plain": [
              "torch.Size([2, 32768])"
            ]
          },
          "metadata": {},
          "execution_count": 42
        }
      ]
    },
    {
      "cell_type": "code",
      "source": [
        "# 最も予測スコアの高い単語のインデックス\n",
        "outputs.logits[0, masked_token_index].argmax(axis=-1)"
      ],
      "metadata": {
        "colab": {
          "base_uri": "https://localhost:8080/"
        },
        "id": "ujtkp9IHx6Yw",
        "outputId": "8691dc2e-88d0-4941-a314-39c56e4bcdaf"
      },
      "execution_count": 43,
      "outputs": [
        {
          "output_type": "execute_result",
          "data": {
            "text/plain": [
              "tensor([15091, 17772])"
            ]
          },
          "metadata": {},
          "execution_count": 43
        }
      ]
    },
    {
      "cell_type": "code",
      "source": [
        "tokenizer.decode(predicted_token_id)"
      ],
      "metadata": {
        "colab": {
          "base_uri": "https://localhost:8080/",
          "height": 35
        },
        "id": "6MmWDn7cyf0s",
        "outputId": "af8638eb-ecdc-41a9-f612-5dbd16208fe1"
      },
      "execution_count": 44,
      "outputs": [
        {
          "output_type": "execute_result",
          "data": {
            "text/plain": [
              "'徳川 家康'"
            ],
            "application/vnd.google.colaboratory.intrinsic+json": {
              "type": "string"
            }
          },
          "metadata": {},
          "execution_count": 44
        }
      ]
    },
    {
      "cell_type": "code",
      "source": [],
      "metadata": {
        "id": "hRA2VUW3y2MU"
      },
      "execution_count": null,
      "outputs": []
    }
  ]
}
